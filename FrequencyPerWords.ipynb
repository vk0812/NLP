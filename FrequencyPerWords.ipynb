{
 "cells": [
  {
   "cell_type": "code",
   "execution_count": 1,
   "id": "29b5c88e",
   "metadata": {},
   "outputs": [
    {
     "name": "stderr",
     "output_type": "stream",
     "text": [
      "[nltk_data] Downloading package stopwords to\n",
      "[nltk_data]     C:\\Users\\Vidit\\AppData\\Roaming\\nltk_data...\n",
      "[nltk_data]   Package stopwords is already up-to-date!\n"
     ]
    }
   ],
   "source": [
    "import nltk\n",
    "from nltk.corpus import twitter_samples\n",
    "from nltk.corpus import stopwords\n",
    "from nltk.stem import PorterStemmer        \n",
    "from nltk.tokenize import TweetTokenizer\n",
    "import string\n",
    "import re\n",
    "import numpy as np\n",
    "import pandas as pd\n",
    "import matplotlib.pyplot as plt\n",
    "\n",
    "from functions import process_tweet,build_freqs"
   ]
  },
  {
   "cell_type": "code",
   "execution_count": 2,
   "id": "f7db3a45",
   "metadata": {},
   "outputs": [
    {
     "data": {
      "text/plain": [
       "10000"
      ]
     },
     "execution_count": 2,
     "metadata": {},
     "output_type": "execute_result"
    }
   ],
   "source": [
    "all_positive_tweets = twitter_samples.strings('positive_tweets.json')\n",
    "all_negative_tweets = twitter_samples.strings('negative_tweets.json')\n",
    "\n",
    "tweets = all_positive_tweets + all_negative_tweets\n",
    "len(tweets)"
   ]
  },
  {
   "cell_type": "code",
   "execution_count": 3,
   "id": "e1ce8271",
   "metadata": {},
   "outputs": [],
   "source": [
    "word_list = []\n",
    "for tweet in tweets:\n",
    "    cleaned_tweet = process_tweet(tweet)\n",
    "    for word in cleaned_tweet:\n",
    "        if word not in word_list:\n",
    "            word_list.append(word)"
   ]
  },
  {
   "cell_type": "code",
   "execution_count": 4,
   "id": "a14149e5",
   "metadata": {},
   "outputs": [
    {
     "data": {
      "text/plain": [
       "10418"
      ]
     },
     "execution_count": 4,
     "metadata": {},
     "output_type": "execute_result"
    }
   ],
   "source": [
    "len(word_list)"
   ]
  },
  {
   "cell_type": "code",
   "execution_count": 5,
   "id": "c2cbff7c",
   "metadata": {},
   "outputs": [
    {
     "data": {
      "text/plain": [
       "'followfriday'"
      ]
     },
     "execution_count": 5,
     "metadata": {},
     "output_type": "execute_result"
    }
   ],
   "source": [
    "word_list[0]"
   ]
  },
  {
   "cell_type": "code",
   "execution_count": 6,
   "id": "b8945360",
   "metadata": {},
   "outputs": [],
   "source": [
    "labels = np.append(np.ones((len(all_positive_tweets))), np.zeros((len(all_negative_tweets))))\n",
    "\n",
    "freqs = build_freqs(tweets, labels)"
   ]
  },
  {
   "cell_type": "code",
   "execution_count": 7,
   "id": "2feddfc4",
   "metadata": {},
   "outputs": [],
   "source": [
    "pos_freq = []\n",
    "neg_freq = []\n",
    "for i in range(len(word_list)):\n",
    "    pos_freq.append(freqs.get((word_list[i],1.0),0))\n",
    "    neg_freq.append(freqs.get((word_list[i],0.0),0))"
   ]
  },
  {
   "cell_type": "code",
   "execution_count": 8,
   "id": "85abee08",
   "metadata": {},
   "outputs": [
    {
     "data": {
      "text/plain": [
       "10418"
      ]
     },
     "execution_count": 8,
     "metadata": {},
     "output_type": "execute_result"
    }
   ],
   "source": [
    "len(pos_freq)"
   ]
  },
  {
   "cell_type": "code",
   "execution_count": 9,
   "id": "8175d602",
   "metadata": {},
   "outputs": [
    {
     "data": {
      "text/plain": [
       "10418"
      ]
     },
     "execution_count": 9,
     "metadata": {},
     "output_type": "execute_result"
    }
   ],
   "source": [
    "len(neg_freq)"
   ]
  },
  {
   "cell_type": "code",
   "execution_count": 10,
   "id": "94b52fdc",
   "metadata": {},
   "outputs": [],
   "source": [
    "data = {\n",
    "    'Word':word_list,\n",
    "    'Positive Frequency':pos_freq,\n",
    "    'Negative Frequency':neg_freq\n",
    "}"
   ]
  },
  {
   "cell_type": "code",
   "execution_count": 11,
   "id": "91f04d0b",
   "metadata": {},
   "outputs": [],
   "source": [
    "dataset = pd.DataFrame(data)"
   ]
  },
  {
   "cell_type": "code",
   "execution_count": 12,
   "id": "ae17fb7f",
   "metadata": {},
   "outputs": [
    {
     "data": {
      "text/html": [
       "<div>\n",
       "<style scoped>\n",
       "    .dataframe tbody tr th:only-of-type {\n",
       "        vertical-align: middle;\n",
       "    }\n",
       "\n",
       "    .dataframe tbody tr th {\n",
       "        vertical-align: top;\n",
       "    }\n",
       "\n",
       "    .dataframe thead th {\n",
       "        text-align: right;\n",
       "    }\n",
       "</style>\n",
       "<table border=\"1\" class=\"dataframe\">\n",
       "  <thead>\n",
       "    <tr style=\"text-align: right;\">\n",
       "      <th></th>\n",
       "      <th>Word</th>\n",
       "      <th>Positive Frequency</th>\n",
       "      <th>Negative Frequency</th>\n",
       "    </tr>\n",
       "  </thead>\n",
       "  <tbody>\n",
       "    <tr>\n",
       "      <th>0</th>\n",
       "      <td>followfriday</td>\n",
       "      <td>25</td>\n",
       "      <td>0</td>\n",
       "    </tr>\n",
       "    <tr>\n",
       "      <th>1</th>\n",
       "      <td>top</td>\n",
       "      <td>32</td>\n",
       "      <td>6</td>\n",
       "    </tr>\n",
       "    <tr>\n",
       "      <th>2</th>\n",
       "      <td>engag</td>\n",
       "      <td>7</td>\n",
       "      <td>0</td>\n",
       "    </tr>\n",
       "    <tr>\n",
       "      <th>3</th>\n",
       "      <td>member</td>\n",
       "      <td>16</td>\n",
       "      <td>6</td>\n",
       "    </tr>\n",
       "    <tr>\n",
       "      <th>4</th>\n",
       "      <td>commun</td>\n",
       "      <td>33</td>\n",
       "      <td>2</td>\n",
       "    </tr>\n",
       "    <tr>\n",
       "      <th>5</th>\n",
       "      <td>week</td>\n",
       "      <td>83</td>\n",
       "      <td>56</td>\n",
       "    </tr>\n",
       "    <tr>\n",
       "      <th>6</th>\n",
       "      <td>:)</td>\n",
       "      <td>3568</td>\n",
       "      <td>2</td>\n",
       "    </tr>\n",
       "    <tr>\n",
       "      <th>7</th>\n",
       "      <td>hey</td>\n",
       "      <td>76</td>\n",
       "      <td>26</td>\n",
       "    </tr>\n",
       "    <tr>\n",
       "      <th>8</th>\n",
       "      <td>jame</td>\n",
       "      <td>7</td>\n",
       "      <td>4</td>\n",
       "    </tr>\n",
       "    <tr>\n",
       "      <th>9</th>\n",
       "      <td>odd</td>\n",
       "      <td>2</td>\n",
       "      <td>3</td>\n",
       "    </tr>\n",
       "  </tbody>\n",
       "</table>\n",
       "</div>"
      ],
      "text/plain": [
       "           Word  Positive Frequency  Negative Frequency\n",
       "0  followfriday                  25                   0\n",
       "1           top                  32                   6\n",
       "2         engag                   7                   0\n",
       "3        member                  16                   6\n",
       "4        commun                  33                   2\n",
       "5          week                  83                  56\n",
       "6            :)                3568                   2\n",
       "7           hey                  76                  26\n",
       "8          jame                   7                   4\n",
       "9           odd                   2                   3"
      ]
     },
     "execution_count": 12,
     "metadata": {},
     "output_type": "execute_result"
    }
   ],
   "source": [
    "dataset.head(10)"
   ]
  }
 ],
 "metadata": {
  "kernelspec": {
   "display_name": "Python 3 (ipykernel)",
   "language": "python",
   "name": "python3"
  },
  "language_info": {
   "codemirror_mode": {
    "name": "ipython",
    "version": 3
   },
   "file_extension": ".py",
   "mimetype": "text/x-python",
   "name": "python",
   "nbconvert_exporter": "python",
   "pygments_lexer": "ipython3",
   "version": "3.9.7"
  }
 },
 "nbformat": 4,
 "nbformat_minor": 5
}
