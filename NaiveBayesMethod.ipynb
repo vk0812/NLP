{
 "cells": [
  {
   "cell_type": "code",
   "execution_count": 1,
   "id": "d6c7fd31",
   "metadata": {},
   "outputs": [
    {
     "name": "stderr",
     "output_type": "stream",
     "text": [
      "[nltk_data] Downloading package stopwords to\n",
      "[nltk_data]     C:\\Users\\Vidit\\AppData\\Roaming\\nltk_data...\n",
      "[nltk_data]   Package stopwords is already up-to-date!\n"
     ]
    }
   ],
   "source": [
    "import nltk\n",
    "from nltk.corpus import twitter_samples\n",
    "from nltk.corpus import stopwords\n",
    "from nltk.stem import PorterStemmer        \n",
    "from nltk.tokenize import TweetTokenizer\n",
    "import string\n",
    "import re\n",
    "import numpy as np\n",
    "import pandas as pd\n",
    "import matplotlib.pyplot as plt\n",
    "\n",
    "from functions import process_tweet,build_freqs"
   ]
  },
  {
   "cell_type": "code",
   "execution_count": 2,
   "id": "1ca2f739",
   "metadata": {},
   "outputs": [],
   "source": [
    "all_positive_tweets = twitter_samples.strings('positive_tweets.json')\n",
    "all_negative_tweets = twitter_samples.strings('negative_tweets.json')\n",
    "\n",
    "X = all_positive_tweets + all_negative_tweets\n",
    "Y = np.append(np.ones((len(all_positive_tweets), 1)), np.zeros((len(all_negative_tweets), 1)), axis=0)"
   ]
  },
  {
   "cell_type": "code",
   "execution_count": 3,
   "id": "ab58608b",
   "metadata": {},
   "outputs": [
    {
     "name": "stdout",
     "output_type": "stream",
     "text": [
      "type(freqs) = <class 'dict'>\n",
      "len(freqs) = 13067\n"
     ]
    }
   ],
   "source": [
    "freqs = build_freqs(X,Y)\n",
    "\n",
    "print(\"type(freqs) = \" + str(type(freqs)))\n",
    "print(\"len(freqs) = \" + str(len(freqs.keys())))"
   ]
  },
  {
   "cell_type": "code",
   "execution_count": 4,
   "id": "a7144190",
   "metadata": {},
   "outputs": [],
   "source": [
    "def frequency(tweets,labels,freqs):\n",
    "    word_list = []\n",
    "    for tweet in tweets:\n",
    "        cleaned_tweet = process_tweet(tweet)\n",
    "        for word in cleaned_tweet:\n",
    "            if word not in word_list:\n",
    "                word_list.append(word)\n",
    "                \n",
    "    pos_freq = []\n",
    "    neg_freq = []\n",
    "    for i in range(len(word_list)):\n",
    "        pos_freq.append(freqs.get((word_list[i],1.0),0) + 1)\n",
    "        neg_freq.append(freqs.get((word_list[i],0.0),0) + 1)\n",
    "        \n",
    "    data = {\n",
    "        'Word':word_list,\n",
    "        'Positive Frequency':pos_freq,\n",
    "        'Negative Frequency':neg_freq\n",
    "    }\n",
    "    dataset = pd.DataFrame(data)\n",
    "    return dataset,word_list"
   ]
  },
  {
   "cell_type": "code",
   "execution_count": 5,
   "id": "bc63fa5b",
   "metadata": {},
   "outputs": [
    {
     "data": {
      "text/html": [
       "<div>\n",
       "<style scoped>\n",
       "    .dataframe tbody tr th:only-of-type {\n",
       "        vertical-align: middle;\n",
       "    }\n",
       "\n",
       "    .dataframe tbody tr th {\n",
       "        vertical-align: top;\n",
       "    }\n",
       "\n",
       "    .dataframe thead th {\n",
       "        text-align: right;\n",
       "    }\n",
       "</style>\n",
       "<table border=\"1\" class=\"dataframe\">\n",
       "  <thead>\n",
       "    <tr style=\"text-align: right;\">\n",
       "      <th></th>\n",
       "      <th>Word</th>\n",
       "      <th>Positive Frequency</th>\n",
       "      <th>Negative Frequency</th>\n",
       "    </tr>\n",
       "  </thead>\n",
       "  <tbody>\n",
       "    <tr>\n",
       "      <th>0</th>\n",
       "      <td>followfriday</td>\n",
       "      <td>26</td>\n",
       "      <td>1</td>\n",
       "    </tr>\n",
       "    <tr>\n",
       "      <th>1</th>\n",
       "      <td>top</td>\n",
       "      <td>33</td>\n",
       "      <td>7</td>\n",
       "    </tr>\n",
       "    <tr>\n",
       "      <th>2</th>\n",
       "      <td>engag</td>\n",
       "      <td>8</td>\n",
       "      <td>1</td>\n",
       "    </tr>\n",
       "    <tr>\n",
       "      <th>3</th>\n",
       "      <td>member</td>\n",
       "      <td>17</td>\n",
       "      <td>7</td>\n",
       "    </tr>\n",
       "    <tr>\n",
       "      <th>4</th>\n",
       "      <td>commun</td>\n",
       "      <td>34</td>\n",
       "      <td>3</td>\n",
       "    </tr>\n",
       "    <tr>\n",
       "      <th>5</th>\n",
       "      <td>week</td>\n",
       "      <td>84</td>\n",
       "      <td>57</td>\n",
       "    </tr>\n",
       "    <tr>\n",
       "      <th>6</th>\n",
       "      <td>:)</td>\n",
       "      <td>3569</td>\n",
       "      <td>3</td>\n",
       "    </tr>\n",
       "    <tr>\n",
       "      <th>7</th>\n",
       "      <td>hey</td>\n",
       "      <td>77</td>\n",
       "      <td>27</td>\n",
       "    </tr>\n",
       "    <tr>\n",
       "      <th>8</th>\n",
       "      <td>jame</td>\n",
       "      <td>8</td>\n",
       "      <td>5</td>\n",
       "    </tr>\n",
       "    <tr>\n",
       "      <th>9</th>\n",
       "      <td>odd</td>\n",
       "      <td>3</td>\n",
       "      <td>4</td>\n",
       "    </tr>\n",
       "  </tbody>\n",
       "</table>\n",
       "</div>"
      ],
      "text/plain": [
       "           Word  Positive Frequency  Negative Frequency\n",
       "0  followfriday                  26                   1\n",
       "1           top                  33                   7\n",
       "2         engag                   8                   1\n",
       "3        member                  17                   7\n",
       "4        commun                  34                   3\n",
       "5          week                  84                  57\n",
       "6            :)                3569                   3\n",
       "7           hey                  77                  27\n",
       "8          jame                   8                   5\n",
       "9           odd                   3                   4"
      ]
     },
     "execution_count": 5,
     "metadata": {},
     "output_type": "execute_result"
    }
   ],
   "source": [
    "dataset,word_list = frequency(X,Y,freqs)\n",
    "dataset.head(10)"
   ]
  },
  {
   "cell_type": "code",
   "execution_count": 6,
   "id": "fd4d422c",
   "metadata": {},
   "outputs": [],
   "source": [
    "total_words = len(dataset['Word'])\n",
    "\n",
    "n_positive = dataset['Positive Frequency'].sum()\n",
    "n_negative = dataset['Negative Frequency'].sum()"
   ]
  },
  {
   "cell_type": "code",
   "execution_count": 7,
   "id": "dc307dbe",
   "metadata": {},
   "outputs": [],
   "source": [
    "dataset['Positive'] = dataset['Positive Frequency']/(n_positive+total_words)\n",
    "dataset['Negative'] = dataset['Negative Frequency']/(n_negative+total_words)\n",
    "pos_freq = dataset['Positive'].tolist()\n",
    "neg_freq = dataset['Negative'].tolist()"
   ]
  },
  {
   "cell_type": "code",
   "execution_count": 8,
   "id": "4d983ef4",
   "metadata": {},
   "outputs": [],
   "source": [
    "del dataset['Positive Frequency']\n",
    "del dataset['Negative Frequency']"
   ]
  },
  {
   "cell_type": "code",
   "execution_count": 9,
   "id": "8996813b",
   "metadata": {},
   "outputs": [],
   "source": [
    "dataset['Lambda'] = np.log(dataset['Positive']/dataset['Negative'])\n",
    "del dataset['Positive']\n",
    "del dataset['Negative']"
   ]
  },
  {
   "cell_type": "code",
   "execution_count": 10,
   "id": "154cbfd9",
   "metadata": {},
   "outputs": [
    {
     "data": {
      "text/html": [
       "<div>\n",
       "<style scoped>\n",
       "    .dataframe tbody tr th:only-of-type {\n",
       "        vertical-align: middle;\n",
       "    }\n",
       "\n",
       "    .dataframe tbody tr th {\n",
       "        vertical-align: top;\n",
       "    }\n",
       "\n",
       "    .dataframe thead th {\n",
       "        text-align: right;\n",
       "    }\n",
       "</style>\n",
       "<table border=\"1\" class=\"dataframe\">\n",
       "  <thead>\n",
       "    <tr style=\"text-align: right;\">\n",
       "      <th></th>\n",
       "      <th>Word</th>\n",
       "      <th>Lambda</th>\n",
       "    </tr>\n",
       "  </thead>\n",
       "  <tbody>\n",
       "    <tr>\n",
       "      <th>0</th>\n",
       "      <td>followfriday</td>\n",
       "      <td>3.256136</td>\n",
       "    </tr>\n",
       "    <tr>\n",
       "      <th>1</th>\n",
       "      <td>top</td>\n",
       "      <td>1.548637</td>\n",
       "    </tr>\n",
       "    <tr>\n",
       "      <th>2</th>\n",
       "      <td>engag</td>\n",
       "      <td>2.077481</td>\n",
       "    </tr>\n",
       "    <tr>\n",
       "      <th>3</th>\n",
       "      <td>member</td>\n",
       "      <td>0.885343</td>\n",
       "    </tr>\n",
       "    <tr>\n",
       "      <th>4</th>\n",
       "      <td>commun</td>\n",
       "      <td>2.425788</td>\n",
       "    </tr>\n",
       "  </tbody>\n",
       "</table>\n",
       "</div>"
      ],
      "text/plain": [
       "           Word    Lambda\n",
       "0  followfriday  3.256136\n",
       "1           top  1.548637\n",
       "2         engag  2.077481\n",
       "3        member  0.885343\n",
       "4        commun  2.425788"
      ]
     },
     "execution_count": 10,
     "metadata": {},
     "output_type": "execute_result"
    }
   ],
   "source": [
    "dataset.head()"
   ]
  },
  {
   "cell_type": "code",
   "execution_count": 11,
   "id": "153607c3",
   "metadata": {},
   "outputs": [],
   "source": [
    "lambda_list = dataset['Lambda'].tolist() "
   ]
  },
  {
   "cell_type": "code",
   "execution_count": 12,
   "id": "e32289a9",
   "metadata": {},
   "outputs": [],
   "source": [
    "def predict(tweet,word_list,lambda_list):\n",
    "    lambda_sum = 0\n",
    "    cleaned_tweet = process_tweet(tweet)\n",
    "    for word in cleaned_tweet:\n",
    "        try:\n",
    "            index = word_list.index(word)\n",
    "        except:\n",
    "            index = -1\n",
    "        \n",
    "        if(index!=-1):\n",
    "            lambda_sum += lambda_list[index]\n",
    "        else:\n",
    "            lambda_sum += 0\n",
    "    return lambda_sum"
   ]
  },
  {
   "cell_type": "code",
   "execution_count": 13,
   "id": "bba0cc0f",
   "metadata": {},
   "outputs": [],
   "source": [
    "lambda_sum_list = []\n",
    "\n",
    "for i in range(len(X)):\n",
    "    lambda_sum_list.append(predict(X[i],word_list,lambda_list))"
   ]
  },
  {
   "cell_type": "code",
   "execution_count": 14,
   "id": "f6876728",
   "metadata": {},
   "outputs": [],
   "source": [
    "Y_pred = []\n",
    "for value in lambda_sum_list:\n",
    "    if value>0:\n",
    "        Y_pred.append(1)\n",
    "    else:\n",
    "        Y_pred.append(0)"
   ]
  },
  {
   "cell_type": "code",
   "execution_count": 15,
   "id": "0f9220b7",
   "metadata": {},
   "outputs": [],
   "source": [
    "from sklearn.metrics import confusion_matrix,accuracy_score"
   ]
  },
  {
   "cell_type": "code",
   "execution_count": 16,
   "id": "9242231e",
   "metadata": {},
   "outputs": [
    {
     "data": {
      "text/plain": [
       "array([[4989,   11],\n",
       "       [  24, 4976]], dtype=int64)"
      ]
     },
     "execution_count": 16,
     "metadata": {},
     "output_type": "execute_result"
    }
   ],
   "source": [
    "confusion_matrix(Y,Y_pred)"
   ]
  },
  {
   "cell_type": "code",
   "execution_count": 17,
   "id": "99f5e2c2",
   "metadata": {},
   "outputs": [
    {
     "name": "stdout",
     "output_type": "stream",
     "text": [
      "99.65%\n"
     ]
    }
   ],
   "source": [
    "print(str(accuracy_score(Y,Y_pred)*100)+\"%\")"
   ]
  },
  {
   "cell_type": "code",
   "execution_count": 18,
   "id": "ee84005d",
   "metadata": {},
   "outputs": [
    {
     "name": "stdout",
     "output_type": "stream",
     "text": [
      "Positive Sentiment\n"
     ]
    }
   ],
   "source": [
    "custom_tweet = \"I am having a lovely day\"\n",
    "if(predict(custom_tweet,word_list,lambda_list)>0):\n",
    "    print('Positive Sentiment')\n",
    "else:\n",
    "    print('Negative Sentiment')"
   ]
  }
 ],
 "metadata": {
  "kernelspec": {
   "display_name": "Python 3 (ipykernel)",
   "language": "python",
   "name": "python3"
  },
  "language_info": {
   "codemirror_mode": {
    "name": "ipython",
    "version": 3
   },
   "file_extension": ".py",
   "mimetype": "text/x-python",
   "name": "python",
   "nbconvert_exporter": "python",
   "pygments_lexer": "ipython3",
   "version": "3.9.7"
  }
 },
 "nbformat": 4,
 "nbformat_minor": 5
}
